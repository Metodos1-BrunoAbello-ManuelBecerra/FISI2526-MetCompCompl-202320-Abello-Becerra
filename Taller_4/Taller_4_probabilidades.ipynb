{
 "cells": [
  {
   "cell_type": "code",
   "execution_count": 65,
   "metadata": {},
   "outputs": [],
   "source": [
    "import numpy as np\n",
    "import matplotlib.pyplot as plt"
   ]
  },
  {
   "attachments": {},
   "cell_type": "markdown",
   "metadata": {},
   "source": [
    "Ejercicio 1"
   ]
  },
  {
   "cell_type": "code",
   "execution_count": 66,
   "metadata": {},
   "outputs": [
    {
     "name": "stdout",
     "output_type": "stream",
     "text": [
      "Si las primeras dos cartas son de espadas, la probabilidad de que las próximas 3 también lo sean es de: 0.00858\n"
     ]
    }
   ],
   "source": [
    "N = 100000\n",
    "n = 0\n",
    "evento_2_espadas = 0\n",
    "for i in range (N):\n",
    "    cartas2Espadas = np.arange(1, 51)\n",
    "    np.random.shuffle(cartas2Espadas)\n",
    "    cartas_tomo = cartas2Espadas[:3]\n",
    "    n = 0\n",
    "    for carta in cartas_tomo:\n",
    "        if 40<=carta<=51:\n",
    "            n += 1\n",
    "    if n == 3:\n",
    "        evento_2_espadas += 1\n",
    "            \n",
    "P = evento_2_espadas/N\n",
    "print(\"Si las primeras dos cartas son de espadas, la probabilidad de que las próximas 3 también lo sean es de: \" + str(P))"
   ]
  },
  {
   "cell_type": "code",
   "execution_count": 67,
   "metadata": {},
   "outputs": [
    {
     "name": "stdout",
     "output_type": "stream",
     "text": [
      "Si las primeras 3 cartas son de espadas, la probabilidad de que las próximas 2 también lo sean es de: 0.03765\n"
     ]
    }
   ],
   "source": [
    "n = 0\n",
    "evento_3_espadas = 0\n",
    "for i in range (N):\n",
    "    cartas3Espadas = np.arange(1, 50)\n",
    "    np.random.shuffle(cartas3Espadas)\n",
    "    cartas_tomo = cartas3Espadas[:2]\n",
    "    n = 0\n",
    "    for carta in cartas_tomo:\n",
    "        if 40<=carta<=51:\n",
    "            n += 1\n",
    "    if n == 2:\n",
    "        evento_3_espadas += 1\n",
    "            \n",
    "P = evento_3_espadas/N\n",
    "print(\"Si las primeras 3 cartas son de espadas, la probabilidad de que las próximas 2 también lo sean es de: \" + str(P))"
   ]
  },
  {
   "cell_type": "code",
   "execution_count": 68,
   "metadata": {},
   "outputs": [
    {
     "name": "stdout",
     "output_type": "stream",
     "text": [
      "Si las primeras 4 cartas son de espadas, la probabilidad de que la próxima también lo sea es de: 0.18752\n"
     ]
    }
   ],
   "source": [
    "n = 0\n",
    "evento_4_espadas = 0\n",
    "for i in range (N):\n",
    "    cartas4Espadas = np.arange(1, 49)\n",
    "    np.random.shuffle(cartas4Espadas)\n",
    "    cartas_tomo = cartas4Espadas[:1]\n",
    "    n = 0\n",
    "    for carta in cartas_tomo:\n",
    "        if 40<=carta<=51:\n",
    "            n += 1\n",
    "    if n == 1:\n",
    "        evento_4_espadas += 1\n",
    "            \n",
    "P = evento_4_espadas/N\n",
    "print(\"Si las primeras 4 cartas son de espadas, la probabilidad de que la próxima también lo sea es de: \" + str(P))"
   ]
  },
  {
   "cell_type": "code",
   "execution_count": 69,
   "metadata": {},
   "outputs": [
    {
     "name": "stdout",
     "output_type": "stream",
     "text": [
      "K es la probabilidad de que una persona no inoculada se exponga y se contagie: 0.54\n",
      "k es la probabilidad de que una persona inoculada se exponga y se contagie: 0.12\n",
      "\n",
      "La probabilidad de que al menos una de las dos personas se contagie es de: 0.59596\n"
     ]
    }
   ],
   "source": [
    "n = 0\n",
    "K = 0.6*0.9\n",
    "print (\"K es la probabilidad de que una persona no inoculada se exponga y se contagie: \" + str(K))\n",
    "L = np.random.binomial(1, K, N)\n",
    "k = 0.6*0.2\n",
    "print (\"k es la probabilidad de que una persona inoculada se exponga y se contagie: \" + str(k))\n",
    "l = np.random.binomial(1, k, N)\n",
    "print (\"\")\n",
    "for i in range (N):\n",
    "    if l[i] == 1 or L[i] == 1:\n",
    "        n += 1       \n",
    "P = n/N\n",
    "print(\"La probabilidad de que al menos una de las dos personas se contagie es de: \" + str(P))"
   ]
  },
  {
   "attachments": {},
   "cell_type": "markdown",
   "metadata": {},
   "source": [
    "Ejercicio 2"
   ]
  },
  {
   "cell_type": "code",
   "execution_count": 70,
   "metadata": {},
   "outputs": [],
   "source": [
    "P1 = []\n",
    "P2 = []\n",
    "n = 101\n",
    "p1 = np.linspace(0, 1, n)\n",
    "for p in range(0, n):\n",
    "    n1 = 0\n",
    "    n2 = 0\n",
    "    L1 = np.random.binomial(25, p/100, N)\n",
    "    L2 = np.random.binomial(5, p/100, N)\n",
    "    for i in range(len(L1)):\n",
    "        if L1[i] <=5:\n",
    "            n1 += 1\n",
    "        if L2[i] <= 1:\n",
    "            n2 += 1\n",
    "    P1.append(n1/N)\n",
    "    P2.append(n2/N)"
   ]
  },
  {
   "cell_type": "code",
   "execution_count": 71,
   "metadata": {},
   "outputs": [
    {
     "data": {
      "image/png": "[encoded data removed]",
      "text/plain": [
       "<Figure size 640x480 with 1 Axes>"
      ]
     },
     "metadata": {},
     "output_type": "display_data"
    }
   ],
   "source": [
    "plt.plot(p1, P1, color = 'b')\n",
    "plt.plot(p1, P2, color  = 'r')\n",
    "plt.axvline(x = 0.3, color = 'orange')\n",
    "plt.axvline(x = 0.1, color = 'g')\n",
    "plt.show()"
   ]
  },
  {
   "attachments": {},
   "cell_type": "markdown",
   "metadata": {},
   "source": [
    "Haciendo la gráfica de las dos distribuciones, nos fijamos que:\n",
    "\n",
    "a) En un p de 0 a 0.1, es mucho mejor escoger la distribución azul, es decir, con n = 25 y a = 5.\n",
    "\n",
    "b) Excediendo p = 0.3, el mejor plan de muestreo es el rojo, es decir, n = 5 y a = 1."
   ]
  },
  {
   "attachments": {},
   "cell_type": "markdown",
   "metadata": {},
   "source": [
    "Parte 2"
   ]
  },
  {
   "cell_type": "code",
   "execution_count": 72,
   "metadata": {},
   "outputs": [
    {
     "name": "stdout",
     "output_type": "stream",
     "text": [
      "El número mínimo de desconexiones en menos de cuatro horas cuya probabilidad de ocurrir es inferior a 0.01 es de: 6 horas,  con probabilidad p de: 0.00373\n"
     ]
    }
   ],
   "source": [
    "N = 100000\n",
    "juan = np.random.poisson(1, N)\n",
    "i = 0\n",
    "p = 1\n",
    "while p>=0.01:\n",
    "    p = 0\n",
    "    for n in juan:\n",
    "        if n >= i:\n",
    "            p += 1\n",
    "    p = p/N\n",
    "    i += 1\n",
    "print(\"El número mínimo de desconexiones en menos de cuatro horas cuya probabilidad de ocurrir es inferior a 0.01 es de: \" + str(i) + \" horas, \"\n",
    "      \" con probabilidad p de: \" + str(p))"
   ]
  },
  {
   "cell_type": "code",
   "execution_count": 83,
   "metadata": {},
   "outputs": [
    {
     "data": {
      "text/plain": [
       "(0.01788, 16)"
      ]
     },
     "execution_count": 83,
     "metadata": {},
     "output_type": "execute_result"
    }
   ],
   "source": [
    "n = 0\n",
    "h = 1/4\n",
    "P = 1\n",
    "a = 0\n",
    "while P>=0.02:\n",
    "    juan = np.random.poisson(h, N)\n",
    "    a += 1\n",
    "    n = 0\n",
    "    for i in juan:\n",
    "        if i == 0:\n",
    "            n += 1\n",
    "    P = n/N\n",
    "    h += 1/4\n",
    "P, a"
   ]
  },
  {
   "attachments": {},
   "cell_type": "markdown",
   "metadata": {},
   "source": [
    "Aquí va todo lo de poisson que no me está saliendo"
   ]
  },
  {
   "attachments": {},
   "cell_type": "markdown",
   "metadata": {},
   "source": [
    "Ejercicio 3"
   ]
  },
  {
   "attachments": {},
   "cell_type": "markdown",
   "metadata": {},
   "source": [
    "La integral de (x^2)/3 es (x^3)/(3*3) = (x^3)/9 "
   ]
  },
  {
   "cell_type": "code",
   "execution_count": null,
   "metadata": {},
   "outputs": [
    {
     "name": "stdout",
     "output_type": "stream",
     "text": [
      "La probabilidad de que X se encuentre en ]0:1] es de: 0.111\n",
      "La probabilidad de que X se encuentre en ]1:2] es de: 0.778\n"
     ]
    }
   ],
   "source": [
    "P01 = (1**3)/9 - (0**3)/9\n",
    "P12 = (2**3)/9 - (1**3)/9\n",
    "print(\"La probabilidad de que X se encuentre en ]0:1] es de: \" + str(round(P01, 3)))\n",
    "print(\"La probabilidad de que X se encuentre en ]1:2] es de: \" + str(round(P12, 3)))"
   ]
  },
  {
   "attachments": {},
   "cell_type": "markdown",
   "metadata": {},
   "source": [
    "Parte 2"
   ]
  },
  {
   "cell_type": "code",
   "execution_count": null,
   "metadata": {},
   "outputs": [
    {
     "name": "stdout",
     "output_type": "stream",
     "text": [
      "La probabilidad de que una persona tenga una calificación mayor a 72 es de: 0.842434\n"
     ]
    }
   ],
   "source": [
    "L = np.random.normal(78, 36**(1/2), N)\n",
    "n = 0\n",
    "for i in L:\n",
    "    if i > 72:\n",
    "        n += 1\n",
    "P = n/N\n",
    "print(\"La probabilidad de que una persona tenga una calificación mayor a 72 es de: \" + str(P))"
   ]
  },
  {
   "cell_type": "code",
   "execution_count": null,
   "metadata": {},
   "outputs": [
    {
     "name": "stdout",
     "output_type": "stream",
     "text": [
      "La calificación mínima para obtener una A es de: 85.68209362815317\n"
     ]
    }
   ],
   "source": [
    "l = L\n",
    "l.sort()\n",
    "P = 0\n",
    "n = 0\n",
    "while P<0.9:\n",
    "    n += 1\n",
    "    P = n/N\n",
    "print(\"La calificación mínima para obtener una A es de: \" + str(l[n]))"
   ]
  },
  {
   "cell_type": "code",
   "execution_count": null,
   "metadata": {},
   "outputs": [
    {
     "name": "stdout",
     "output_type": "stream",
     "text": [
      "La proporcion de estudiantes que tiene notas 5 puntos superior al cuartil inferior es de: 0.436107\n"
     ]
    }
   ],
   "source": [
    "P = 0\n",
    "n = 0\n",
    "while P<0.25:\n",
    "    n += 1\n",
    "    P = n/N\n",
    "m = 0\n",
    "for i in l:\n",
    "    if i >= (l[n] + 5):\n",
    "        m += 1\n",
    "P = m/N\n",
    "print (\"La proporcion de estudiantes que tiene notas 5 puntos superior al cuartil inferior es de: \" + str(P))"
   ]
  },
  {
   "cell_type": "code",
   "execution_count": null,
   "metadata": {},
   "outputs": [
    {
     "name": "stdout",
     "output_type": "stream",
     "text": [
      "Sabiendo que la calificación es mejor que 72, la probabilidad que sea mayor a 84 es de: 0.18824026570627492\n"
     ]
    }
   ],
   "source": [
    "ñ = []\n",
    "n = 0\n",
    "for i in L:\n",
    "    if i > 72:\n",
    "        ñ.append(i)\n",
    "for i in ñ:\n",
    "    if i > 84:\n",
    "        n += 1\n",
    "P = n/len(ñ)\n",
    "print(\"Sabiendo que la calificación es mejor que 72, la probabilidad que sea mayor a 84 es de: \" + str(P))"
   ]
  },
  {
   "attachments": {},
   "cell_type": "markdown",
   "metadata": {},
   "source": [
    "Ejercicio 4"
   ]
  },
  {
   "cell_type": "code",
   "execution_count": 84,
   "metadata": {},
   "outputs": [],
   "source": [
    "T = np.array([[0.4, 0.25, 0.3, 0.1], [0.2, 0.25, 0.3, 0.1], \n",
    "              [0.2, 0.25, 0.1, 0.1], [0.2, 0.25, 0.3, 0.7]])\n",
    "pi = np.array([0.25, 0, 0.5, 0.25])\n",
    "A = 0\n",
    "C = 1\n",
    "G = 2\n",
    "t = 3"
   ]
  },
  {
   "cell_type": "code",
   "execution_count": 85,
   "metadata": {},
   "outputs": [
    {
     "data": {
      "text/plain": [
       "7.5e-06"
      ]
     },
     "execution_count": 85,
     "metadata": {},
     "output_type": "execute_result"
    }
   ],
   "source": [
    "JUAN = pi[t] * T[G][t] * T[C][G] * T[t][C] * T[C][t] * T[A][C] * T[A][A] * T[A][A] \n",
    "round(JUAN,7)"
   ]
  },
  {
   "cell_type": "code",
   "execution_count": 86,
   "metadata": {},
   "outputs": [
    {
     "name": "stdout",
     "output_type": "stream",
     "text": [
      "1.4e-06\n"
     ]
    }
   ],
   "source": [
    "U=0\n",
    "g=1\n",
    "c=2\n",
    "a=3\n",
    "E = np.array([[0.8, 0., 0., 0.2], [0.05, 0.9, 0.1, 0.1], \n",
    "              [0.05, 0.1, 0.9, 0.], [0.1, 0., 0., 0.7]])"
   ]
  },
  {
   "cell_type": "code",
   "execution_count": 87,
   "metadata": {},
   "outputs": [
    {
     "data": {
      "text/plain": [
       "1.4e-06"
      ]
     },
     "execution_count": 87,
     "metadata": {},
     "output_type": "execute_result"
    }
   ],
   "source": [
    "PABLO = E[a][t] * E[c][G] * E[g][C] * E[a][t] * E[g][C] * E[U][A] * E[U][A] * E[U][A] * JUAN\n",
    "round(PABLO,7)"
   ]
  }
 ],
 "metadata": {
  "kernelspec": {
   "display_name": "Python 3",
   "language": "python",
   "name": "python3"
  },
  "language_info": {
   "codemirror_mode": {
    "name": "ipython",
    "version": 3
   },
   "file_extension": ".py",
   "mimetype": "text/x-python",
   "name": "python",
   "nbconvert_exporter": "python",
   "pygments_lexer": "ipython3",
   "version": "3.9.0"
  },
  "orig_nbformat": 4,
  "vscode": {
   "interpreter": {
    "hash": "aee8b7b246df8f9039afb4144a1f6fd8d2ca17a180786b69acc140d282b71a49"
   }
  }
 },
 "nbformat": 4,
 "nbformat_minor": 2
}
