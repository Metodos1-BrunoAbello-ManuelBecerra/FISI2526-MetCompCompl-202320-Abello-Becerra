{
 "cells": [
  {
   "cell_type": "code",
   "execution_count": 45,
   "metadata": {},
   "outputs": [],
   "source": [
    "import numpy as np\n",
    "import matplotlib.pyplot as plt"
   ]
  },
  {
   "cell_type": "code",
   "execution_count": 163,
   "metadata": {},
   "outputs": [
    {
     "name": "stdout",
     "output_type": "stream",
     "text": [
      "si las primeras dos cartas son de espadas, la probabilidad de que las próximas 3 también lo sean es de : 0.00059\n"
     ]
    }
   ],
   "source": [
    "N = 100000\n",
    "n = 0\n",
    "for i in range (N+1):\n",
    "    a = np.random.randint(1, 52)\n",
    "    b = np.random.randint(1, 51)\n",
    "    if a < 14 and b < 13:\n",
    "        c = np.random.randint(1, 50)\n",
    "        d = np.random.randint(1, 49)\n",
    "        e = np.random.randint(1, 48)\n",
    "        if c < 12 and d < 11 and e < 10:\n",
    "            n += 1\n",
    "            \n",
    "P = n/N\n",
    "print(\"Si las primeras dos cartas son de espadas, la probabilidad de que las próximas 3 también lo sean es de: \" + str(P))"
   ]
  },
  {
   "cell_type": "code",
   "execution_count": 164,
   "metadata": {},
   "outputs": [
    {
     "name": "stdout",
     "output_type": "stream",
     "text": [
      "Si las primeras 3 cartas son de espadas, la probabilidad de que las próximas 2 también lo sean es de : 0.00048\n"
     ]
    }
   ],
   "source": [
    "n = 0\n",
    "for i in range (N+1):\n",
    "    a = np.random.randint(1, 52)\n",
    "    b = np.random.randint(1, 51)\n",
    "    c = np.random.randint(1, 50)\n",
    "    if a < 14 and b < 13 and c < 12:\n",
    "        d = np.random.randint(1, 49)\n",
    "        e = np.random.randint(1, 48)\n",
    "        if d < 11 and e < 10:\n",
    "            n += 1\n",
    "            \n",
    "P = n/N\n",
    "print(\"Si las primeras 3 cartas son de espadas, la probabilidad de que las próximas 2 también lo sean es de: \" + str(P))"
   ]
  },
  {
   "cell_type": "code",
   "execution_count": 165,
   "metadata": {},
   "outputs": [
    {
     "name": "stdout",
     "output_type": "stream",
     "text": [
      "Si las primeras 4 cartas son de espadas, la probabilidad de que la próxima también lo sean es de: 0.00064\n"
     ]
    }
   ],
   "source": [
    "n = 0\n",
    "for i in range (N+1):\n",
    "    a = np.random.randint(1, 52)\n",
    "    b = np.random.randint(1, 51)\n",
    "    c = np.random.randint(1, 50)\n",
    "    d = np.random.randint(1, 49)\n",
    "    if a < 14 and b < 13 and c < 12 and d < 11:\n",
    "        e = np.random.randint(1, 48)\n",
    "        if e < 10:\n",
    "            n += 1\n",
    "            \n",
    "P = n/N\n",
    "print(\"Si las primeras 4 cartas son de espadas, la probabilidad de que la próxima también lo sean es de: \" + str(P))"
   ]
  },
  {
   "cell_type": "code",
   "execution_count": 169,
   "metadata": {},
   "outputs": [
    {
     "name": "stdout",
     "output_type": "stream",
     "text": [
      "K es la probabilidad de que una persona no inoculada se exponga y se contagie: 0.54\n",
      "k es la probabilidad de que una persona inoculada se exponga y se contagie: 0.12\n",
      "\n",
      "La probabilidad de que al menos una de las dos personas se contagie es de: 0.59733\n"
     ]
    }
   ],
   "source": [
    "n = 0\n",
    "K = 0.6*0.9\n",
    "print (\"K es la probabilidad de que una persona no inoculada se exponga y se contagie: \" + str(K))\n",
    "L = np.random.binomial(1, K, N)\n",
    "k = 0.6*0.2\n",
    "print (\"k es la probabilidad de que una persona inoculada se exponga y se contagie: \" + str(k))\n",
    "l = np.random.binomial(1, k, N)\n",
    "print (\"\")\n",
    "for i in range (N):\n",
    "    if l[i] == 1 or L[i] == 1:\n",
    "        n += 1       \n",
    "P = n/N\n",
    "print(\"La probabilidad de que al menos una de las dos personas se contagie es de: \" + str(P))"
   ]
  },
  {
   "cell_type": "code",
   "execution_count": 171,
   "metadata": {},
   "outputs": [],
   "source": [
    "P1 = []\n",
    "P2 = []\n",
    "n = 101\n",
    "p1 = np.linspace(0, 1, n)\n",
    "for p in range(0, n):\n",
    "    n1 = 0\n",
    "    n2 = 0\n",
    "    L1 = np.random.binomial(25, p/100, N)\n",
    "    L2 = np.random.binomial(5, p/100, N)\n",
    "    for i in range(len(L1)):\n",
    "        if L1[i] <=5:\n",
    "            n1 += 1\n",
    "        if L2[i] <= 1:\n",
    "            n2 += 1\n",
    "    P1.append(n1/N)\n",
    "    P2.append(n2/N)"
   ]
  },
  {
   "cell_type": "code",
   "execution_count": 175,
   "metadata": {},
   "outputs": [
    {
     "data": {
      "image/png": "[encoded data removed]",
      "text/plain": [
       "<Figure size 640x480 with 1 Axes>"
      ]
     },
     "metadata": {},
     "output_type": "display_data"
    }
   ],
   "source": [
    "plt.plot(p1, P1, color = 'b')\n",
    "plt.plot(p1, P2, color  = 'r')\n",
    "plt.axvline(x = 0.3, color = 'orange')\n",
    "plt.axvline(x = 0.1, color = 'g')\n",
    "plt.show()"
   ]
  },
  {
   "attachments": {},
   "cell_type": "markdown",
   "metadata": {},
   "source": [
    "Haciendo la gráfica de las dos distribuciones, nos fijamos que:\n",
    "\n",
    "a) En un p de 0 a 0.1, es mucho mejor escoger la distribución azul, es decir, con n = 25 y a = 5.\n",
    "\n",
    "b) Excediendo p = 0.3, el mejor plan de muestreo es el rojo, es decir, n = 5 y a = 1."
   ]
  },
  {
   "cell_type": "code",
   "execution_count": 99,
   "metadata": {},
   "outputs": [
    {
     "name": "stdout",
     "output_type": "stream",
     "text": [
      "0.50906\n",
      "0.50467\n",
      "0.50571\n",
      "0.50908\n",
      "0.50577\n",
      "0.50494\n",
      "0.50736\n",
      "0.50726\n",
      "0.50478\n",
      "0.50556\n",
      "0.50662\n",
      "0.50198\n",
      "0.50526\n",
      "0.50699\n",
      "0.50689\n",
      "0.50362\n",
      "0.50826\n",
      "0.506\n",
      "0.50526\n",
      "0.50888\n",
      "0.50901\n",
      "0.50504\n",
      "0.50648\n",
      "0.50899\n",
      "0.50487\n",
      "0.5052\n",
      "0.50319\n",
      "0.50412\n",
      "0.50554\n",
      "0.50825\n",
      "0.50868\n",
      "0.50692\n",
      "0.50581\n",
      "0.50503\n",
      "0.50516\n",
      "0.50782\n",
      "0.50514\n",
      "0.5078\n",
      "0.50898\n",
      "0.50722\n",
      "0.50698\n",
      "0.50745\n",
      "0.50817\n",
      "0.50553\n",
      "0.50406\n",
      "0.50809\n",
      "0.50469\n",
      "0.50533\n",
      "0.50316\n",
      "0.50647\n",
      "0.5051\n",
      "0.50463\n",
      "0.50397\n",
      "0.50347\n",
      "0.50576\n",
      "0.50667\n",
      "0.50633\n",
      "0.50429\n",
      "0.50689\n",
      "0.50458\n",
      "0.50216\n",
      "0.50488\n",
      "0.50373\n",
      "0.50557\n",
      "0.50523\n",
      "0.50308\n",
      "0.50515\n",
      "0.50586\n",
      "0.50524\n",
      "0.50482\n",
      "0.50704\n",
      "0.50583\n",
      "0.50502\n",
      "0.50778\n",
      "0.50409\n",
      "0.50254\n",
      "0.50441\n",
      "0.50423\n",
      "0.50761\n",
      "0.50568\n",
      "0.50637\n",
      "0.50403\n",
      "0.50713\n",
      "0.50855\n",
      "0.50452\n",
      "0.50763\n",
      "0.50388\n",
      "0.50385\n",
      "0.50191\n",
      "0.50454\n",
      "0.50714\n",
      "0.50454\n",
      "0.5039\n",
      "0.50599\n",
      "0.50472\n",
      "0.50729\n",
      "0.50492\n",
      "0.50357\n",
      "0.5058\n",
      "0.50358\n",
      "0.50779\n",
      "0.5071\n",
      "0.50489\n",
      "0.50706\n",
      "0.50846\n",
      "0.5037\n",
      "0.50597\n",
      "0.50531\n",
      "0.50466\n",
      "0.5068\n",
      "0.50638\n",
      "0.50693\n",
      "0.50713\n",
      "0.50203\n",
      "0.50481\n",
      "0.5042\n",
      "0.5076\n",
      "0.50422\n",
      "0.50496\n",
      "0.50613\n",
      "0.50221\n",
      "0.5052\n",
      "0.50554\n",
      "0.50718\n",
      "0.50604\n",
      "0.50778\n",
      "0.50469\n",
      "0.50763\n",
      "0.50323\n",
      "0.50445\n",
      "0.50654\n",
      "0.50564\n",
      "0.50373\n",
      "0.50456\n",
      "0.50353\n",
      "0.50848\n",
      "0.50374\n",
      "0.50634\n",
      "0.50503\n",
      "0.50726\n",
      "0.50488\n",
      "0.50426\n",
      "0.50684\n",
      "0.50307\n",
      "0.50763\n",
      "0.50781\n",
      "0.50638\n",
      "0.50373\n",
      "0.50413\n",
      "0.50495\n",
      "0.5031\n",
      "0.50656\n",
      "0.50668\n",
      "0.50599\n",
      "0.5047\n",
      "0.50694\n",
      "0.50503\n",
      "0.50489\n",
      "0.5096\n",
      "0.50951\n",
      "0.50627\n",
      "0.50491\n",
      "0.50582\n",
      "0.50644\n",
      "0.50677\n",
      "0.50524\n",
      "0.50519\n",
      "0.50644\n",
      "0.5064\n",
      "0.5047\n",
      "0.5068\n",
      "0.50133\n",
      "0.50675\n",
      "0.50437\n",
      "0.50381\n",
      "0.50341\n",
      "0.50562\n",
      "0.50373\n",
      "0.50601\n",
      "0.50654\n",
      "0.5055\n",
      "0.50565\n",
      "0.5073\n",
      "0.50538\n",
      "0.50588\n",
      "0.50401\n",
      "0.50379\n",
      "0.50542\n",
      "0.5048\n",
      "0.50617\n",
      "0.50613\n",
      "0.50352\n",
      "0.50392\n",
      "0.50781\n",
      "0.50338\n",
      "0.50457\n",
      "0.50359\n",
      "0.50626\n",
      "0.50329\n",
      "0.50564\n",
      "0.50298\n"
     ]
    }
   ],
   "source": [
    "N = 100000\n",
    "for i in range(500, 701):\n",
    "    p = 0\n",
    "    juan = np.random.poisson(i, N)\n",
    "    for n in juan:\n",
    "        if n >= i:\n",
    "            p += 1\n",
    "    p = p/N\n",
    "    print(p)\n",
    "    if p < 0.01:\n",
    "        print(i)"
   ]
  },
  {
   "cell_type": "code",
   "execution_count": 103,
   "metadata": {},
   "outputs": [
    {
     "data": {
      "text/plain": [
       "(0.3687, array([1, 0, 2, ..., 3, 1, 0]))"
      ]
     },
     "execution_count": 103,
     "metadata": {},
     "output_type": "execute_result"
    }
   ],
   "source": [
    "a = np.random.poisson(1, 10000)\n",
    "n = 0\n",
    "for i in a:\n",
    "    if i == 1:\n",
    "        n += 1\n",
    "P = n/10000\n",
    "P, a"
   ]
  },
  {
   "attachments": {},
   "cell_type": "markdown",
   "metadata": {},
   "source": [
    "Aquí va todo lo de poisson que no me está saliendo"
   ]
  },
  {
   "cell_type": "code",
   "execution_count": 177,
   "metadata": {},
   "outputs": [
    {
     "name": "stdout",
     "output_type": "stream",
     "text": [
      "La probabilidad de que X se encuentre en ]0:1] es de: 0.3345\n",
      "La probabilidad de que X se encuentre en ]1:2] es de: 0.33291\n"
     ]
    }
   ],
   "source": [
    "L = np.random.uniform(-1, 2, N)\n",
    "n1 = 0\n",
    "n2 = 0\n",
    "for i in L:\n",
    "    if i > 0 and i <= 1:\n",
    "        n1 += 1\n",
    "    if i > 1 and i <= 2:\n",
    "        n2 += 1\n",
    "P1 = n1 / N\n",
    "P2 = n2 / N\n",
    "print(\"La probabilidad de que X se encuentre en ]0:1] es de: \" + str(P1))\n",
    "print(\"La probabilidad de que X se encuentre en ]1:2] es de: \" +str(P2))"
   ]
  },
  {
   "cell_type": "code",
   "execution_count": 178,
   "metadata": {},
   "outputs": [
    {
     "name": "stdout",
     "output_type": "stream",
     "text": [
      "La probabilidad de que una persona tenga una calificación mayor a 72 es de: 0.84038\n"
     ]
    }
   ],
   "source": [
    "L = np.random.normal(78, 36**(1/2), N)\n",
    "n = 0\n",
    "for i in L:\n",
    "    if i > 72:\n",
    "        n += 1\n",
    "P = n/N\n",
    "print(\"La probabilidad de que una persona tenga una calificación mayor a 72 es de: \" + str(P))"
   ]
  },
  {
   "cell_type": "code",
   "execution_count": 179,
   "metadata": {},
   "outputs": [
    {
     "name": "stdout",
     "output_type": "stream",
     "text": [
      "La calificación mínima para obtener una A es de: 85.71531477500558\n"
     ]
    }
   ],
   "source": [
    "l = L\n",
    "l.sort()\n",
    "P = 0\n",
    "n = 0\n",
    "while P<0.9:\n",
    "    n += 1\n",
    "    P = n/N\n",
    "print(\"La calificación mínima para obtener una A es de: \" + str(l[n]))"
   ]
  },
  {
   "cell_type": "code",
   "execution_count": 180,
   "metadata": {},
   "outputs": [
    {
     "name": "stdout",
     "output_type": "stream",
     "text": [
      "La proporcion de estudiantes que tiene notas 5 puntos superior al cuartil inferior es de: 0.4355\n"
     ]
    }
   ],
   "source": [
    "P = 0\n",
    "n = 0\n",
    "while P<0.25:\n",
    "    n += 1\n",
    "    P = n/N\n",
    "m = 0\n",
    "for i in l:\n",
    "    if i >= (l[n] + 5):\n",
    "        m += 1\n",
    "P = m/N\n",
    "print (\"La proporcion de estudiantes que tiene notas 5 puntos superior al cuartil inferior es de: \" + str(P))"
   ]
  },
  {
   "cell_type": "code",
   "execution_count": 181,
   "metadata": {},
   "outputs": [
    {
     "name": "stdout",
     "output_type": "stream",
     "text": [
      "Sabiendo que la calificación es mejor que 72, la probabilidad que sea mayor a 84 es de: 0.19048525666960184\n"
     ]
    }
   ],
   "source": [
    "ñ = []\n",
    "n = 0\n",
    "for i in L:\n",
    "    if i > 72:\n",
    "        ñ.append(i)\n",
    "for i in ñ:\n",
    "    if i > 84:\n",
    "        n += 1\n",
    "P = n/len(ñ)\n",
    "print(\"Sabiendo que la calificación es mejor que 72, la probabilidad que sea mayor a 84 es de: \" + str(P))"
   ]
  }
 ],
 "metadata": {
  "kernelspec": {
   "display_name": "Python 3",
   "language": "python",
   "name": "python3"
  },
  "language_info": {
   "codemirror_mode": {
    "name": "ipython",
    "version": 3
   },
   "file_extension": ".py",
   "mimetype": "text/x-python",
   "name": "python",
   "nbconvert_exporter": "python",
   "pygments_lexer": "ipython3",
   "version": "3.9.0"
  },
  "orig_nbformat": 4,
  "vscode": {
   "interpreter": {
    "hash": "aee8b7b246df8f9039afb4144a1f6fd8d2ca17a180786b69acc140d282b71a49"
   }
  }
 },
 "nbformat": 4,
 "nbformat_minor": 2
}
