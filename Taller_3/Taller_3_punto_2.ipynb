{
 "cells": [
  {
   "cell_type": "code",
   "execution_count": 67,
   "metadata": {},
   "outputs": [],
   "source": [
    "import numpy as np"
   ]
  },
  {
   "cell_type": "code",
   "execution_count": 68,
   "metadata": {},
   "outputs": [],
   "source": [
    "def gaussian_elimination(A: np.array,b: np.array):\n",
    "    n = len(b)\n",
    "    M = np.zeros(shape=(n,n+1))\n",
    "    M[:,0:n] = A\n",
    "    M[:,n] = b\n",
    "    for j in range (0, n-1):\n",
    "        for i in range(n):\n",
    "            if i != j and i > j:\n",
    "                k1 = M[i, j]/M[j, j]\n",
    "                M[i, :] = M[i, :] - M[j, :]*k1\n",
    "    return M"
   ]
  },
  {
   "cell_type": "code",
   "execution_count": 69,
   "metadata": {},
   "outputs": [],
   "source": [
    "def convertir_matriz_en_2(M):\n",
    "    A = M[:, :-1]\n",
    "    b = M[:, -1]\n",
    "    return A, b"
   ]
  },
  {
   "cell_type": "code",
   "execution_count": 70,
   "metadata": {},
   "outputs": [],
   "source": [
    "def back_substitution(A, b):\n",
    "    n = np.shape(A)[0]\n",
    "\n",
    "    x = np.zeros(n)\n",
    "\n",
    "    for i in range(n-1,-1,-1):\n",
    "        sum = b[i]\n",
    "        for j in range(n-1,i,-1):\n",
    "            sum -= A[i,j]*x[j]\n",
    "        x[i] = sum/A[i,i]\n",
    "\n",
    "    return x"
   ]
  },
  {
   "cell_type": "code",
   "execution_count": 71,
   "metadata": {},
   "outputs": [],
   "source": [
    "F = np.array([[3, 1, -1], [1, -2, 1], [4, -1, 1]])\n",
    "Fr = np.array([2, 0, 3])"
   ]
  },
  {
   "cell_type": "code",
   "execution_count": 72,
   "metadata": {},
   "outputs": [],
   "source": [
    "M = gaussian_elimination(F, Fr)"
   ]
  },
  {
   "cell_type": "code",
   "execution_count": 73,
   "metadata": {},
   "outputs": [],
   "source": [
    "A, b = convertir_matriz_en_2(M)"
   ]
  },
  {
   "cell_type": "code",
   "execution_count": 74,
   "metadata": {},
   "outputs": [
    {
     "name": "stdout",
     "output_type": "stream",
     "text": [
      "En proporción, las tres fuerzas son así: La primera fuerza es de: 0.7142857142857143, la segunda de: 0.8571428571428571, y la tercera de: 1.0\n"
     ]
    }
   ],
   "source": [
    "Fs = back_substitution(A, b)\n",
    "F1 = Fs[0]\n",
    "F2 = Fs[1]\n",
    "F3 = Fs[2]\n",
    "print (\"En proporción, las tres fuerzas son así: \" + \"La primera fuerza es de: \" + str(F1) + \", la segunda de: \" + str(F2) + \", y la tercera de: \" + str(F3))"
   ]
  },
  {
   "cell_type": "code",
   "execution_count": 75,
   "metadata": {},
   "outputs": [],
   "source": [
    "I = np.array([[1, 1, 1], [0, -8, 10], [4, -8, 0]])\n",
    "Ir = np.array([0, 0, 6]) "
   ]
  },
  {
   "cell_type": "code",
   "execution_count": 76,
   "metadata": {},
   "outputs": [
    {
     "data": {
      "text/plain": [
       "array([[  1.,   1.,   1.,   0.],\n",
       "       [  0.,  -8.,  10.,   0.],\n",
       "       [  0.,   0., -19.,   6.]])"
      ]
     },
     "execution_count": 76,
     "metadata": {},
     "output_type": "execute_result"
    }
   ],
   "source": [
    "M = gaussian_elimination(I, Ir)\n",
    "M"
   ]
  },
  {
   "cell_type": "code",
   "execution_count": 77,
   "metadata": {},
   "outputs": [],
   "source": [
    "A, b = convertir_matriz_en_2(M)"
   ]
  },
  {
   "cell_type": "code",
   "execution_count": 78,
   "metadata": {},
   "outputs": [
    {
     "name": "stdout",
     "output_type": "stream",
     "text": [
      "En proporción, las tres fuerzas son así: La primera fuerza es de: 0.7105263157894737, la segunda de: -0.39473684210526316, y la tercera de: -0.3157894736842105\n"
     ]
    }
   ],
   "source": [
    "Is = back_substitution(A, b)\n",
    "I1 = Is[0]\n",
    "I2 = Is[1]\n",
    "I3 = Is[2]\n",
    "print (\"En proporción, las tres fuerzas son así: \" + \"La primera fuerza es de: \" + str(I1) + \", la segunda de: \" + str(I2) + \", y la tercera de: \" + str(I3))"
   ]
  }
 ],
 "metadata": {
  "kernelspec": {
   "display_name": "Python 3",
   "language": "python",
   "name": "python3"
  },
  "language_info": {
   "codemirror_mode": {
    "name": "ipython",
    "version": 3
   },
   "file_extension": ".py",
   "mimetype": "text/x-python",
   "name": "python",
   "nbconvert_exporter": "python",
   "pygments_lexer": "ipython3",
   "version": "3.10.11"
  },
  "orig_nbformat": 4
 },
 "nbformat": 4,
 "nbformat_minor": 2
}
