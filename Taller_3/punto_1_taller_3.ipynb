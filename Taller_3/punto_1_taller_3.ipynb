{
 "cells": [
  {
   "cell_type": "code",
   "execution_count": 64,
   "metadata": {},
   "outputs": [],
   "source": [
    "import numpy as np"
   ]
  },
  {
   "cell_type": "code",
   "execution_count": 65,
   "metadata": {},
   "outputs": [],
   "source": [
    "def multiplicacion_de_matrices(A, B):\n",
    "    C = np.array([])\n",
    "    if len(A[0]) == len(B):\n",
    "        if len(B.shape) == 2:\n",
    "            for i in range (len(A)):\n",
    "                D = []\n",
    "                for k in range(len(B[0])):\n",
    "                    sum = 0\n",
    "                    for j in range (len(B)):\n",
    "                        sum += A[i, j]*B[j, k]\n",
    "                    D.append(sum)\n",
    "                C = np.append(C, D)\n",
    "            return C.reshape(len(A), len(B[0]))\n",
    "        else:\n",
    "            for i in range (len(A[0])):\n",
    "                sum = 0\n",
    "                for j in range (len(B)):\n",
    "                    sum += A[i, j]*B[j]\n",
    "                C = np.append(C, sum)\n",
    "            return C\n",
    "    else:\n",
    "        return \"Las columnas de la primera matriz y las filas de la segunda no coinciden en número\""
   ]
  },
  {
   "cell_type": "code",
   "execution_count": 66,
   "metadata": {},
   "outputs": [],
   "source": [
    "A = np.array([[5, -4, -2], [5, -5, 4], [2, 5, -4], [-5, 4, 3], [3, -4, -3]])\n",
    "a = np.array([5, -2, -3])"
   ]
  },
  {
   "cell_type": "code",
   "execution_count": 67,
   "metadata": {},
   "outputs": [
    {
     "data": {
      "text/plain": [
       "array([39., 23., 12.])"
      ]
     },
     "execution_count": 67,
     "metadata": {},
     "output_type": "execute_result"
    }
   ],
   "source": [
    "multiplicacion_de_matrices(A, a)"
   ]
  },
  {
   "cell_type": "code",
   "execution_count": 68,
   "metadata": {},
   "outputs": [],
   "source": [
    "B = np.array([[0, -1, -1, 3], [5, -5, -2, 2], [1, 0, 4, 5]])\n",
    "b = np.array([[0, -3], [-2, -1], [3, -3]])"
   ]
  },
  {
   "cell_type": "code",
   "execution_count": 69,
   "metadata": {},
   "outputs": [
    {
     "data": {
      "text/plain": [
       "'Las columnas de la primera matriz y las filas de la segunda no coinciden en número'"
      ]
     },
     "execution_count": 69,
     "metadata": {},
     "output_type": "execute_result"
    }
   ],
   "source": [
    "multiplicacion_de_matrices(B, b)"
   ]
  },
  {
   "cell_type": "code",
   "execution_count": 70,
   "metadata": {},
   "outputs": [],
   "source": [
    "C = np.array([[2, -5, 5, 1], [5, 2, -7, -6], [-6, -1, 7, -4], [5, 4, 1, -5]])\n",
    "c = np.array([[0, 4, -7, 1, -6], [-1, -6, -5, 1, 1], [2, -1, -6, 5, -5], [-3, -6, 6, 3, 5]])"
   ]
  },
  {
   "cell_type": "code",
   "execution_count": 71,
   "metadata": {},
   "outputs": [
    {
     "data": {
      "text/plain": [
       "array([[ 12.,  27., -13.,  25., -37.],\n",
       "       [  2.,  51., -39., -46., -23.],\n",
       "       [ 27.,  -1., -19.,  16., -20.],\n",
       "       [ 13.,  25., -91.,  -1., -56.]])"
      ]
     },
     "execution_count": 71,
     "metadata": {},
     "output_type": "execute_result"
    }
   ],
   "source": [
    "multiplicacion_de_matrices(C, c)"
   ]
  },
  {
   "cell_type": "code",
   "execution_count": 77,
   "metadata": {},
   "outputs": [],
   "source": [
    "Matriz_Cuadrada_1 = np.array([[1, 2, 3, 4, 5], [6, 7, 8, 9, 10], [11, 12, 13, 14, 15], [16, 17, 18, 19, 20], [21, 22, 23, 24, 25]])\n",
    "Matriz_Cuadrada_2 = np.array([[-25, -24, -23, -22, -21], [-20, -19, -18, -17, -16], [-15, -14, -13, -12, -11], [-10, -9, -8, -7, -6], [-5, -4, -3, -2, -1]])"
   ]
  },
  {
   "cell_type": "code",
   "execution_count": 78,
   "metadata": {},
   "outputs": [
    {
     "data": {
      "text/plain": [
       "array([[ -175.,  -160.,  -145.,  -130.,  -115.],\n",
       "       [ -550.,  -510.,  -470.,  -430.,  -390.],\n",
       "       [ -925.,  -860.,  -795.,  -730.,  -665.],\n",
       "       [-1300., -1210., -1120., -1030.,  -940.],\n",
       "       [-1675., -1560., -1445., -1330., -1215.]])"
      ]
     },
     "execution_count": 78,
     "metadata": {},
     "output_type": "execute_result"
    }
   ],
   "source": [
    "A = multiplicacion_de_matrices(Matriz_Cuadrada_1, Matriz_Cuadrada_2)\n",
    "A"
   ]
  },
  {
   "cell_type": "code",
   "execution_count": 79,
   "metadata": {},
   "outputs": [
    {
     "data": {
      "text/plain": [
       "array([[-1215., -1330., -1445., -1560., -1675.],\n",
       "       [ -940., -1030., -1120., -1210., -1300.],\n",
       "       [ -665.,  -730.,  -795.,  -860.,  -925.],\n",
       "       [ -390.,  -430.,  -470.,  -510.,  -550.],\n",
       "       [ -115.,  -130.,  -145.,  -160.,  -175.]])"
      ]
     },
     "execution_count": 79,
     "metadata": {},
     "output_type": "execute_result"
    }
   ],
   "source": [
    "B = multiplicacion_de_matrices(Matriz_Cuadrada_2, Matriz_Cuadrada_1)\n",
    "B"
   ]
  },
  {
   "cell_type": "code",
   "execution_count": 80,
   "metadata": {},
   "outputs": [],
   "source": [
    "def conmutatividad(A, B):\n",
    "    if (A == B).all():\n",
    "        return \"La multiplicación de matrices es conmutativa en este caso\"\n",
    "    else: \n",
    "        return \"La multiplicacion de matrices no es conmutativa\""
   ]
  },
  {
   "cell_type": "code",
   "execution_count": 81,
   "metadata": {},
   "outputs": [
    {
     "data": {
      "text/plain": [
       "'La multiplicacion de matrices no es conmutativa'"
      ]
     },
     "execution_count": 81,
     "metadata": {},
     "output_type": "execute_result"
    }
   ],
   "source": [
    "conmutatividad(A, B)"
   ]
  }
 ],
 "metadata": {
  "kernelspec": {
   "display_name": "Python 3",
   "language": "python",
   "name": "python3"
  },
  "language_info": {
   "codemirror_mode": {
    "name": "ipython",
    "version": 3
   },
   "file_extension": ".py",
   "mimetype": "text/x-python",
   "name": "python",
   "nbconvert_exporter": "python",
   "pygments_lexer": "ipython3",
   "version": "3.10.11"
  },
  "orig_nbformat": 4
 },
 "nbformat": 4,
 "nbformat_minor": 2
}
