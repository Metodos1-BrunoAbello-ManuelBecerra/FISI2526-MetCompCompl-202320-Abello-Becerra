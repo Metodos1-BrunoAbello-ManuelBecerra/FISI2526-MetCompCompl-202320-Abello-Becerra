{
 "cells": [
  {
   "cell_type": "code",
   "execution_count": null,
   "metadata": {},
   "outputs": [],
   "source": [
    "import numpy as np"
   ]
  },
  {
   "cell_type": "code",
   "execution_count": null,
   "metadata": {},
   "outputs": [],
   "source": [
    "def multiplicacion_de_matrices(A, B):\n",
    "    C = np.array([])\n",
    "    if len(A[0]) == len(B):\n",
    "        if len(B.shape) == 2:\n",
    "            for i in range (len(A[0])):\n",
    "                D = []\n",
    "                for k in range(len(B)):\n",
    "                    sum = 0\n",
    "                    for j in range (len(B)):\n",
    "                        sum += A[i, j]*B[j, k]\n",
    "                    D.append(sum)\n",
    "                C = np.append(C, D)\n",
    "            return C.reshape(len(A), len(B[0]))\n",
    "        else:\n",
    "            for i in range (len(A[0])):\n",
    "                sum = 0\n",
    "                for j in range (len(B)):\n",
    "                    sum += A[i, j]*B[j]\n",
    "                C = np.append(C, sum)\n",
    "            return C"
   ]
  }
 ],
 "metadata": {
  "language_info": {
   "name": "python"
  },
  "orig_nbformat": 4
 },
 "nbformat": 4,
 "nbformat_minor": 2
}
